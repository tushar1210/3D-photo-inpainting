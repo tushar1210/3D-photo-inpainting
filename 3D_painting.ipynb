{
  "nbformat": 4,
  "nbformat_minor": 0,
  "metadata": {
    "colab": {
      "name": "3D_painting.ipynb",
      "provenance": [],
      "collapsed_sections": [],
      "authorship_tag": "ABX9TyN3Ttxu+ViGAQ/7pOwfS85v",
      "include_colab_link": true
    },
    "kernelspec": {
      "name": "python3",
      "display_name": "Python 3"
    },
    "accelerator": "GPU"
  },
  "cells": [
    {
      "cell_type": "markdown",
      "metadata": {
        "id": "view-in-github",
        "colab_type": "text"
      },
      "source": [
        "<a href=\"https://colab.research.google.com/github/tushar1210/3D-photo-inpainting/blob/master/3D_painting.ipynb\" target=\"_parent\"><img src=\"https://colab.research.google.com/assets/colab-badge.svg\" alt=\"Open In Colab\"/></a>"
      ]
    },
    {
      "cell_type": "code",
      "metadata": {
        "id": "DGonVOyy1Y8G",
        "colab_type": "code",
        "colab": {
          "base_uri": "https://localhost:8080/",
          "height": 306
        },
        "outputId": "090a4748-8e06-404a-9584-38af9edb1458"
      },
      "source": [
        "#health of gpu\n",
        "!nvidia-smi"
      ],
      "execution_count": 1,
      "outputs": [
        {
          "output_type": "stream",
          "text": [
            "Fri Jun  5 14:15:44 2020       \n",
            "+-----------------------------------------------------------------------------+\n",
            "| NVIDIA-SMI 440.82       Driver Version: 418.67       CUDA Version: 10.1     |\n",
            "|-------------------------------+----------------------+----------------------+\n",
            "| GPU  Name        Persistence-M| Bus-Id        Disp.A | Volatile Uncorr. ECC |\n",
            "| Fan  Temp  Perf  Pwr:Usage/Cap|         Memory-Usage | GPU-Util  Compute M. |\n",
            "|===============================+======================+======================|\n",
            "|   0  Tesla P100-PCIE...  Off  | 00000000:00:04.0 Off |                    0 |\n",
            "| N/A   43C    P0    27W / 250W |      0MiB / 16280MiB |      0%      Default |\n",
            "+-------------------------------+----------------------+----------------------+\n",
            "                                                                               \n",
            "+-----------------------------------------------------------------------------+\n",
            "| Processes:                                                       GPU Memory |\n",
            "|  GPU       PID   Type   Process name                             Usage      |\n",
            "|=============================================================================|\n",
            "|  No running processes found                                                 |\n",
            "+-----------------------------------------------------------------------------+\n"
          ],
          "name": "stdout"
        }
      ]
    },
    {
      "cell_type": "code",
      "metadata": {
        "id": "O7NDjo5f1mfg",
        "colab_type": "code",
        "colab": {
          "base_uri": "https://localhost:8080/",
          "height": 238
        },
        "outputId": "b016f1db-5aa0-4cfe-cfa0-665ca1f25872"
      },
      "source": [
        "!pip install -q vispy==0.6.4\n",
        "!pip install -q moviepy==1.0.2\n",
        "!pip install -q transforms3d==0.3.1\n",
        "!pip install -q networkx==2.3\n",
        "!pip install -q -U watermark"
      ],
      "execution_count": 2,
      "outputs": [
        {
          "output_type": "stream",
          "text": [
            "\u001b[K     |████████████████████████████████| 2.3MB 4.7MB/s \n",
            "\u001b[K     |████████████████████████████████| 890kB 30.6MB/s \n",
            "\u001b[K     |████████████████████████████████| 7.9MB 4.5MB/s \n",
            "\u001b[K     |████████████████████████████████| 3.3MB 40.9MB/s \n",
            "\u001b[K     |████████████████████████████████| 26.9MB 92kB/s \n",
            "\u001b[?25h  Building wheel for moviepy (setup.py) ... \u001b[?25l\u001b[?25hdone\n",
            "  Building wheel for proglog (setup.py) ... \u001b[?25l\u001b[?25hdone\n",
            "\u001b[31mERROR: albumentations 0.1.12 has requirement imgaug<0.2.7,>=0.2.5, but you'll have imgaug 0.2.9 which is incompatible.\u001b[0m\n",
            "\u001b[K     |████████████████████████████████| 71kB 3.0MB/s \n",
            "\u001b[?25h  Building wheel for transforms3d (setup.py) ... \u001b[?25l\u001b[?25hdone\n",
            "\u001b[K     |████████████████████████████████| 1.8MB 5.1MB/s \n",
            "\u001b[?25h  Building wheel for networkx (setup.py) ... \u001b[?25l\u001b[?25hdone\n",
            "\u001b[31mERROR: albumentations 0.1.12 has requirement imgaug<0.2.7,>=0.2.5, but you'll have imgaug 0.2.9 which is incompatible.\u001b[0m\n"
          ],
          "name": "stdout"
        }
      ]
    },
    {
      "cell_type": "code",
      "metadata": {
        "id": "qFsUR71f2f64",
        "colab_type": "code",
        "colab": {
          "base_uri": "https://localhost:8080/",
          "height": 102
        },
        "outputId": "52b81112-63eb-4b53-ab34-3f9db31ec454"
      },
      "source": [
        "!sudo apt install sed"
      ],
      "execution_count": 3,
      "outputs": [
        {
          "output_type": "stream",
          "text": [
            "Reading package lists... Done\n",
            "Building dependency tree       \n",
            "Reading state information... Done\n",
            "sed is already the newest version (4.4-2).\n",
            "0 upgraded, 0 newly installed, 0 to remove and 32 not upgraded.\n"
          ],
          "name": "stdout"
        }
      ]
    },
    {
      "cell_type": "code",
      "metadata": {
        "id": "5aQ-q6yA2rah",
        "colab_type": "code",
        "colab": {}
      },
      "source": [
        "from IPython.display import HTML\n",
        "from base64 import b64encode\n",
        "#for rendering the 3D image \n",
        "def show_inpainting(image_file, video_file):\n",
        "  image=open(image_file,'rb').read()\n",
        "  video=open(video_file,'rb').read()\n",
        "  image_data=\"data:image/jpg;base64\"+b64encode(image).decode()\n",
        "  video_data=\"data:video/mp4;base64\"+b64encode(video).decode()\n",
        "  html=HTML(f\"\"\"\n",
        "  <img height=756 src={image_data}/>\n",
        "  <video height=756 controls loop>\n",
        "      <source src={video_data} type='video/mp4'\n",
        "  </video>\n",
        "  \"\"\")\n",
        "  return html\n",
        "\n",
        "#for getting depth html\n",
        "def show_depth_estimation(image_file,depth_file):\n",
        "  image=open(image_file,'rb').read()\n",
        "  depth=open(depth_file,'rb').read()\n",
        "  image_data=\"data:image/jpg;base64\"+b64encode(image).decode()\n",
        "  depth_data=\"data:image/png;base64\"+b64encode(depth).decode()\n",
        "  html=HTML(f\"\"\"\n",
        "  <img height=756 src={image_data}/>\n",
        "  <img height=756 src={depth_data}/>\n",
        "  \"\"\")\n",
        "  return html"
      ],
      "execution_count": 0,
      "outputs": []
    },
    {
      "cell_type": "code",
      "metadata": {
        "id": "1-rO3GAA4khe",
        "colab_type": "code",
        "colab": {}
      },
      "source": [
        ""
      ],
      "execution_count": 0,
      "outputs": []
    }
  ]
}